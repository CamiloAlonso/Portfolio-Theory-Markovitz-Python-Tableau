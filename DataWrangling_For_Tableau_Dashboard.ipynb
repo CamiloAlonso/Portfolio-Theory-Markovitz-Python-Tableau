{
 "cells": [
  {
   "cell_type": "markdown",
   "metadata": {},
   "source": [
    "\n",
    "---\n",
    "<p style=\"text-align: center;\">\n",
    "<font size=\"5\"> <b>Data Wrangling For Tableau Dashboard<b> </font> </p>\n",
    "\n",
    "---"
   ]
  },
  {
   "cell_type": "markdown",
   "metadata": {},
   "source": [
    "##### Libraries"
   ]
  },
  {
   "cell_type": "code",
   "execution_count": 1,
   "metadata": {},
   "outputs": [],
   "source": [
    "import pandas as pd #To data wrangling\n",
    "import re #To create Regular expressions"
   ]
  },
  {
   "cell_type": "markdown",
   "metadata": {},
   "source": [
    "Lets **import the dataframe** that we got after the simluation to plot the previous efficient frontier"
   ]
  },
  {
   "cell_type": "code",
   "execution_count": 5,
   "metadata": {},
   "outputs": [
    {
     "name": "stdout",
     "output_type": "stream",
     "text": [
      "     Return      Risk    Sharpe                          Weights\n",
      "0  0.175990  0.157749  1.115630  [0.184 0.445 0.108 0.049 0.214]\n",
      "1  0.171697  0.151920  1.130180  [0.105 0.285 0.1   0.255 0.255]\n",
      "2  0.180241  0.157031  1.147807  [0.13  0.077 0.147 0.275 0.371]\n",
      "3  0.149156  0.144305  1.033616  [0.298 0.246 0.249 0.166 0.042]\n",
      "4  0.165245  0.149631  1.104350  [0.106 0.312 0.298 0.088 0.197]\n"
     ]
    }
   ],
   "source": [
    "initial_dataframe = pd.read_csv(r'C:\\Users\\calni\\OneDrive\\Documents\\Coding\\Projects data\\Ef Dash\\EficcientFrontierRecession.csv')\n",
    "print(initial_dataframe.head())"
   ]
  },
  {
   "cell_type": "code",
   "execution_count": 15,
   "metadata": {},
   "outputs": [
    {
     "name": "stdout",
     "output_type": "stream",
     "text": [
      "<class 'str'>\n",
      "<class 'numpy.float64'>\n"
     ]
    }
   ],
   "source": [
    "#Checking the columns data type\n",
    "print(type(initial_dataframe.Weights[0]))\n",
    "print(type(initial_dataframe.Risk[0]))"
   ]
  },
  {
   "cell_type": "markdown",
   "metadata": {},
   "source": [
    "As we can see the column **'Weights'** doesnt contain numerical data type, instead its data is a **string**.\n",
    "Additionally, in order to plot the weights composition in Tableau, this dataframe is not in the most\n",
    "suitable way to do it, thats why **we need to arrange the data** before uploading it to Tableau.\n",
    "\n",
    "**Lets see how**.\n",
    "\n",
    "First, **lets get the top 10 portfolios with the highest sharpe ratio**\n",
    "to subset the dataframe."
   ]
  },
  {
   "cell_type": "code",
   "execution_count": 17,
   "metadata": {},
   "outputs": [
    {
     "name": "stdout",
     "output_type": "stream",
     "text": [
      "     Return      Risk    Sharpe                          Weights\n",
      "0  0.207376  0.174751  1.186695  [0.187 0.187 0.071 0.037 0.518]\n",
      "1  0.211138  0.177933  1.186616  [0.207 0.158 0.053 0.034 0.548]\n",
      "2  0.210402  0.177324  1.186541  [0.207 0.19  0.062 0.008 0.533]\n",
      "3  0.202084  0.170459  1.185531  [0.26  0.151 0.083 0.038 0.468]\n",
      "4  0.204565  0.172577  1.185357  [0.272 0.19  0.047 0.02  0.471]\n",
      "5  0.213353  0.179993  1.185338  [0.213 0.19  0.004 0.038 0.554]\n",
      "6  0.209331  0.176682  1.184790  [0.294 0.17  0.026 0.005 0.505]\n",
      "7  0.206081  0.173960  1.184642  [0.227 0.13  0.016 0.113 0.514]\n",
      "8  0.214825  0.181377  1.184413  [0.169 0.166 0.046 0.035 0.584]\n",
      "9  0.197300  0.166587  1.184372  [0.191 0.178 0.106 0.077 0.447]\n"
     ]
    }
   ],
   "source": [
    "topten = initial_dataframe.nlargest(n=10, columns=['Sharpe'])\n",
    "#To reset the index of the portfolios\n",
    "topten.reset_index(inplace=True)\n",
    "#To delete the old index column\n",
    "del topten['index']\n",
    "print(topten)"
   ]
  },
  {
   "cell_type": "markdown",
   "metadata": {},
   "source": [
    "Now we need to create a dataframe with:\n",
    "- Name of the portfolio - i.e (Portfolio 1,2,3,4)\n",
    "- Sharpe ratio\n",
    "- Corresponding weights for each stock - i.e (WM,MCD,PG,JNJ,HD)\n",
    "\n",
    "Lest see how\n",
    "\n",
    "**To begin** we need to **make the list of weights as float not as string**"
   ]
  },
  {
   "cell_type": "code",
   "execution_count": 21,
   "metadata": {},
   "outputs": [
    {
     "name": "stdout",
     "output_type": "stream",
     "text": [
      "[[0.187, 0.187, 0.071, 0.037, 0.518], [0.207, 0.158, 0.053, 0.034, 0.548], [0.207, 0.19, 0.062, 0.008, 0.533], [0.26, 0.151, 0.083, 0.038, 0.468], [0.272, 0.19, 0.047, 0.02, 0.471], [0.213, 0.19, 0.004, 0.038, 0.554], [0.294, 0.17, 0.026, 0.005, 0.505], [0.227, 0.13, 0.016, 0.113, 0.514], [0.169, 0.166, 0.046, 0.035, 0.584], [0.191, 0.178, 0.106, 0.077, 0.447]]\n",
      "<class 'float'>\n"
     ]
    }
   ],
   "source": [
    "#Regular expression to match the string pattern\n",
    "#in the weights column and put it in a empty list\n",
    "xe = re.compile(r'\\d\\.\\d+')\n",
    "\n",
    "#Empty list\n",
    "weights = []\n",
    "\n",
    "#Matching the string and appending the weights \n",
    "#to the new empty list\n",
    "\n",
    "#To iterate over 10 times, since there are 10 portfolios\n",
    "for i in range (len(topten['Weights'])):\n",
    "   #To match the string pattern and put it in a list\n",
    "   matches = xe.findall(topten['Weights'][i])\n",
    "   #To change the matches from string to float data type\n",
    "   for j,k in enumerate(matches):\n",
    "      matches[j] = float(k)\n",
    "   #To append the list to the new weights list\n",
    "   weights.append(matches)\n",
    "\n",
    "print(weights)\n",
    "print(type(weights[0][0]))"
   ]
  },
  {
   "cell_type": "markdown",
   "metadata": {},
   "source": [
    "**Getting the Sharpes Column**"
   ]
  },
  {
   "cell_type": "code",
   "execution_count": 25,
   "metadata": {},
   "outputs": [
    {
     "name": "stdout",
     "output_type": "stream",
     "text": [
      "[1.1866945768751307, 1.1866164100416663, 1.1865409389426642, 1.185530785574375, 1.185356946094067, 1.1853378279261773, 1.184789821147318, 1.1846423914691255, 1.184412560479264, 1.1843718496311624]\n",
      "<class 'float'>\n"
     ]
    }
   ],
   "source": [
    "sharpes = []\n",
    "for i in topten['Sharpe']:\n",
    "   sharpes.append(i)\n",
    "\n",
    "print(sharpes)\n",
    "print(type(sharpes[0]))"
   ]
  },
  {
   "cell_type": "markdown",
   "metadata": {},
   "source": [
    "**Creating the other columns for the new dataframe**"
   ]
  },
  {
   "cell_type": "code",
   "execution_count": 30,
   "metadata": {},
   "outputs": [],
   "source": [
    "wmr = []\n",
    "mcdr = []\n",
    "pgr = []\n",
    "jnj=[]\n",
    "hd=[]\n",
    "name = ['Pt 1','Pt 2','Pt 3','Pt 4','Pt 5','Pt 6','Pt 7','Pt 8','Pt 9','Pt 10']"
   ]
  },
  {
   "cell_type": "markdown",
   "metadata": {},
   "source": [
    "**Appending the corresponding weight to its column**"
   ]
  },
  {
   "cell_type": "code",
   "execution_count": 31,
   "metadata": {},
   "outputs": [
    {
     "name": "stdout",
     "output_type": "stream",
     "text": [
      "[0.187, 0.207, 0.207, 0.26, 0.272, 0.213, 0.294, 0.227, 0.169, 0.191]\n"
     ]
    }
   ],
   "source": [
    "for i in weights:\n",
    "   wmr.append(i[0])\n",
    "   mcdr.append(i[1])\n",
    "   pgr.append(i[2])\n",
    "   jnj.append(i[3])\n",
    "   hd.append(i[4])\n",
    "\n",
    "print(wmr)"
   ]
  },
  {
   "cell_type": "markdown",
   "metadata": {},
   "source": [
    "**Putting all together**"
   ]
  },
  {
   "cell_type": "code",
   "execution_count": 32,
   "metadata": {},
   "outputs": [
    {
     "name": "stdout",
     "output_type": "stream",
     "text": [
      "   Names Portfolio Sharpe     WM    MCD     PG    JNJ     HD\n",
      "0   Pt 1         1.186695  0.187  0.187  0.071  0.037  0.518\n",
      "1   Pt 2         1.186616  0.207  0.158  0.053  0.034  0.548\n",
      "2   Pt 3         1.186541  0.207   0.19  0.062  0.008  0.533\n",
      "3   Pt 4         1.185531   0.26  0.151  0.083  0.038  0.468\n",
      "4   Pt 5         1.185357  0.272   0.19  0.047   0.02  0.471\n",
      "5   Pt 6         1.185338  0.213   0.19  0.004  0.038  0.554\n",
      "6   Pt 7          1.18479  0.294   0.17  0.026  0.005  0.505\n",
      "7   Pt 8         1.184642  0.227   0.13  0.016  0.113  0.514\n",
      "8   Pt 9         1.184413  0.169  0.166  0.046  0.035  0.584\n",
      "9  Pt 10         1.184372  0.191  0.178  0.106  0.077  0.447\n"
     ]
    }
   ],
   "source": [
    "df = [name,sharpes,wmr,mcdr,pgr,jnj,hd]\n",
    "finaldf = pd.DataFrame(df).T\n",
    "finaldf.columns = ['Names','Portfolio Sharpe','WM','MCD','PG','JNJ','HD']\n",
    "\n",
    "print(finaldf)"
   ]
  },
  {
   "cell_type": "markdown",
   "metadata": {},
   "source": [
    "**And thats the final dataframe that was uploaded to tableau, in order to make this dashboard**\n",
    "\n",
    "[Link to Tableau Interactive Dashboard](https://public.tableau.com/app/profile/camilo.alonso/viz/EfRecess/Dashboard1)\n"
   ]
  },
  {
   "cell_type": "markdown",
   "metadata": {},
   "source": [
    "<img src='EF_Frontier.png' width='1074' height='750'/>"
   ]
  }
 ],
 "metadata": {
  "kernelspec": {
   "display_name": "Python 3.10.5 64-bit",
   "language": "python",
   "name": "python3"
  },
  "language_info": {
   "codemirror_mode": {
    "name": "ipython",
    "version": 3
   },
   "file_extension": ".py",
   "mimetype": "text/x-python",
   "name": "python",
   "nbconvert_exporter": "python",
   "pygments_lexer": "ipython3",
   "version": "3.10.5"
  },
  "orig_nbformat": 4,
  "vscode": {
   "interpreter": {
    "hash": "fe9d5ff4a53884772935b30e4b6ecd0e3de4ff8dac19789a0359c1b599960c97"
   }
  }
 },
 "nbformat": 4,
 "nbformat_minor": 2
}
