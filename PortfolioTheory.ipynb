{
 "cells": [
  {
   "cell_type": "markdown",
   "metadata": {},
   "source": [
    "---\n",
    "# Porftolio Stock Strategy | Markotvitz Approach \n",
    "---\n",
    "\n",
    "### Table of contents\n",
    "\n",
    "1. [Introduction]()\n",
    "2. [Model]()\n",
    "3. [Data Wrangling]()<br>\n",
    "   - Libraries\n",
    "   - Data Collection\n",
    "   - Setting Initial Dataframe\n",
    "4. [Simulations]()\n",
    "5. [Setting the Dataframe]()\n",
    "6. [Visualizations]()\n",
    "7. [Conclutions]()\n",
    "\n",
    "\n"
   ]
  },
  {
   "cell_type": "markdown",
   "metadata": {},
   "source": [
    "#### 1. Introduction\n",
    "\n",
    "Its evident that nowadays the economic outlook its getting worse and worse every day. The pandemic effects, thar war tensions and the sharp slowdown in gdp for the main economies has led to stagflation all over the world.\n",
    "So, considering the increasing possibility of a near future recession, here its proposed a portfolio strategy using stocks that had outperformed in past recessions in order to develop an alternative option for those investors who still want to keep their positions in the stock market without changing to the fixed one in a recession scenery. The strategy was made based on the Markovitz portfolio theory model approach."
   ]
  },
  {
   "cell_type": "markdown",
   "metadata": {},
   "source": [
    "##### 2. Model\n",
    "\n",
    "$$ E(Rp) = \\sum\\limits_{j=1}w_{j}E(R_{i}) $$\n",
    "\n",
    "\n",
    "$$\\scriptsize R_{p} = return \\ of \\ portfolio $$ \n",
    "$$\\scriptsize E_{i} = return \\ of \\ asset \\ i$$ \n",
    "$$\\scriptsize W_{j} = weight \\ of \\ asset \\ j$$ \n",
    "\n",
    "\n",
    "\n",
    "\n",
    "\n"
   ]
  }
 ],
 "metadata": {
  "kernelspec": {
   "display_name": "Python 3.10.5 64-bit",
   "language": "python",
   "name": "python3"
  },
  "language_info": {
   "codemirror_mode": {
    "name": "ipython",
    "version": 3
   },
   "file_extension": ".py",
   "mimetype": "text/x-python",
   "name": "python",
   "nbconvert_exporter": "python",
   "pygments_lexer": "ipython3",
   "version": "3.10.5"
  },
  "orig_nbformat": 4,
  "vscode": {
   "interpreter": {
    "hash": "fe9d5ff4a53884772935b30e4b6ecd0e3de4ff8dac19789a0359c1b599960c97"
   }
  }
 },
 "nbformat": 4,
 "nbformat_minor": 2
}
