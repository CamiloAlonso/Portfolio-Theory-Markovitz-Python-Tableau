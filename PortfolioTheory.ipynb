{
 "cells": [
  {
   "cell_type": "markdown",
   "metadata": {},
   "source": [
    "## Porftolio Stock Strategy | Markotvitz Approach \n",
    "\n",
    "\n",
    "##### Table of contents\n",
    "\n",
    "1. [gg]()\n",
    "2. [lol]()\n",
    "\n",
    "\n",
    "\n",
    "\n"
   ]
  }
 ],
 "metadata": {
  "kernelspec": {
   "display_name": "Python 3.10.5 64-bit",
   "language": "python",
   "name": "python3"
  },
  "language_info": {
   "codemirror_mode": {
    "name": "ipython",
    "version": 3
   },
   "file_extension": ".py",
   "mimetype": "text/x-python",
   "name": "python",
   "nbconvert_exporter": "python",
   "pygments_lexer": "ipython3",
   "version": "3.10.5"
  },
  "orig_nbformat": 4,
  "vscode": {
   "interpreter": {
    "hash": "fe9d5ff4a53884772935b30e4b6ecd0e3de4ff8dac19789a0359c1b599960c97"
   }
  }
 },
 "nbformat": 4,
 "nbformat_minor": 2
}
