{
 "cells": [
  {
   "cell_type": "markdown",
   "metadata": {},
   "source": [
    "\n",
    "---\n",
    "<p style=\"text-align: center;\">\n",
    "<font size=\"5\"> <b>Stock portfolio Strategy for recession periods <br>\n",
    "Markotvitz Approach<b> </font> </p>\n",
    "\n",
    "---\n",
    "\n"
   ]
  },
  {
   "cell_type": "markdown",
   "metadata": {},
   "source": [
    "### Table of contents\n",
    "\n",
    "1. [Introduction]()\n",
    "2. [Model]()\n",
    "3. [Data Wrangling]()<br>\n",
    "   - Libraries\n",
    "   - Data Collection\n",
    "   - Setting Initial Dataframe\n",
    "4. [Simulations]()\n",
    "5. [Setting the Dataframe]()\n",
    "6. [Visualizations]()\n",
    "7. [Conclutions]()\n"
   ]
  },
  {
   "cell_type": "markdown",
   "metadata": {},
   "source": [
    "\n",
    "#### 1. Introduction\n",
    "\n",
    "Its evident that nowadays the economic outlook its getting worse and worse every day. The pandemic effects, thar war tensions and the sharp slowdown in gdp for the main economies has led to stagflation all over the world.\n",
    "So, considering the increasing possibility of a near future recession, here its proposed a portfolio strategy using stocks that had outperformed in past recessions in order to develop an alternative option for those investors who still want to keep their positions in the stock market without changing to the fixed one in a recession scenery. The strategy was made based on the Markovitz portfolio theory model approach."
   ]
  },
  {
   "cell_type": "markdown",
   "metadata": {},
   "source": [
    "#### 2. Model\n",
    "\n",
    "$$ E(R_{p}) = \\sum\\limits_{j=1}w_{j}E(R_{i}) $$\n",
    "\n",
    "\n",
    "$$\\small R_{p} = return \\ of \\ portfolio $$ \n",
    "$$\\small E_{i} = return \\ of \\ asset \\ i$$ \n",
    "$$\\small W_{j} = weight \\ of \\ asset \\ j$$ \n",
    "\n",
    "<br>\n",
    "\n",
    "$$ \\sigma^{2}_{p} = \\sum\\limits_{j}w^{2}_{j}\\sigma^{2}_{i}+\\sum\\limits_{j}\\sum\\limits_{j!=i}w_{i}w_{j}\\sigma_{i}\\sigma_{j}\\rho_{ij}$$\n",
    "\n",
    "$$\\small \\sigma^{2}_{p} = portfolio \\ variance $$ \n",
    "$$\\small \\rho_{ij} = correlation \\ between \\ asset \\ ij$$ \n",
    "\n",
    "\n"
   ]
  },
  {
   "cell_type": "markdown",
   "metadata": {},
   "source": [
    "#### 3. Data Wrangling\n",
    "\n",
    "**Libraries**"
   ]
  },
  {
   "cell_type": "code",
   "execution_count": 1,
   "metadata": {},
   "outputs": [],
   "source": [
    "import pandas_datareader.data as web #To collect data\n",
    "import datetime as dt #To specify start and end dates\n",
    "import pandas as pd #To read files or work with dataframes\n",
    "import matplotlib.pyplot as plt #To visualize\n",
    "import numpy as np #To get random weights\n",
    "plt.style.use('fivethirtyeight')"
   ]
  },
  {
   "cell_type": "markdown",
   "metadata": {},
   "source": [
    "**Data collection**"
   ]
  },
  {
   "cell_type": "code",
   "execution_count": 6,
   "metadata": {},
   "outputs": [],
   "source": [
    "#Choosing the stock tickers, the time period to get the prices - number of simulations -risk free as zero\n",
    "#And returns 1 as an empty dataframe to store the prices\n",
    "tickers = ['WM','MCD','PG','JNJ','HD'] \n",
    "start = dt.datetime(2010, 1, 1) \n",
    "end = dt.datetime(2020,12,1)\n",
    "\n",
    "number_of_portfolios = 1000\n",
    "RF = 0\n",
    "returns1 = pd.DataFrame "
   ]
  },
  {
   "cell_type": "code",
   "execution_count": 7,
   "metadata": {},
   "outputs": [
    {
     "name": "stdout",
     "output_type": "stream",
     "text": [
      "                  WM       MCD        PG       JNJ        HD\n",
      "Date                                                        \n",
      "2010-01-04       NaN       NaN       NaN       NaN       NaN\n",
      "2010-01-05 -0.004391 -0.007646  0.000327 -0.011596  0.007325\n",
      "2010-01-06 -0.000294 -0.013643 -0.004743  0.008134 -0.003463\n",
      "2010-01-07  0.002353  0.007323 -0.005423 -0.007137  0.011814\n",
      "2010-01-08  0.004695 -0.000969 -0.001322  0.003438 -0.004808\n"
     ]
    }
   ],
   "source": [
    "for ticker in tickers:\n",
    "     data = web.DataReader(ticker, 'yahoo', start, end)\n",
    "     data = pd.DataFrame(data)\n",
    "     data [ticker] = data ['Adj Close'].pct_change()#new column created on the dataframe\n",
    "     \n",
    "     if returns1.empty:\n",
    "        returns1 = data[[ticker]]\n",
    "     else:\n",
    "        returns1 = returns1.join(data[[ticker]])\n",
    "\n",
    "print(returns1.head())"
   ]
  }
 ],
 "metadata": {
  "kernelspec": {
   "display_name": "Python 3.10.5 64-bit",
   "language": "python",
   "name": "python3"
  },
  "language_info": {
   "codemirror_mode": {
    "name": "ipython",
    "version": 3
   },
   "file_extension": ".py",
   "mimetype": "text/x-python",
   "name": "python",
   "nbconvert_exporter": "python",
   "pygments_lexer": "ipython3",
   "version": "3.10.5"
  },
  "orig_nbformat": 4,
  "vscode": {
   "interpreter": {
    "hash": "fe9d5ff4a53884772935b30e4b6ecd0e3de4ff8dac19789a0359c1b599960c97"
   }
  }
 },
 "nbformat": 4,
 "nbformat_minor": 2
}
