{
 "cells": [
  {
   "cell_type": "markdown",
   "metadata": {},
   "source": [
    "\n",
    "---\n",
    "<p style=\"text-align: center;\">\n",
    "<font size=\"5\"> <b>Stock portfolio Strategy for recession periods <br>\n",
    "Markotvitz Approach<b> </font> </p>\n",
    "\n",
    "---\n",
    "\n"
   ]
  },
  {
   "cell_type": "markdown",
   "metadata": {},
   "source": [
    "### Table of contents\n",
    "\n",
    "1. [Introduction]()\n",
    "2. [Model]()\n",
    "3. [Data Wrangling]()<br>\n",
    "   - Libraries\n",
    "   - Data Collection\n",
    "   - Setting Initial Dataframe\n",
    "4. [Simulations]()\n",
    "   - Setting the final Dataframe\n",
    "   - Locating main findings\n",
    "5. [Visualizations]()\n",
    "6. [Conclutions]()\n"
   ]
  },
  {
   "cell_type": "markdown",
   "metadata": {},
   "source": [
    "\n",
    "#### 1. Introduction\n",
    "\n",
    "Its evident that nowadays the economic outlook its getting worse and worse every day. The pandemic effects, thar war tensions and the sharp slowdown in gdp for the main economies has led to stagflation all over the world.\n",
    "So, considering the increasing possibility of a near future recession, here its proposed a portfolio strategy using stocks that had outperformed in past recessions in order to develop an alternative option for those investors who still want to keep their positions in the stock market without changing to the fixed one in a recession scenery. The strategy was made based on the Markovitz portfolio theory model approach."
   ]
  },
  {
   "cell_type": "markdown",
   "metadata": {},
   "source": [
    "#### 2. Model\n",
    "\n",
    "$$ E(R_{p}) = \\sum\\limits_{j=1}w_{j}E(R_{i}) $$\n",
    "\n",
    "\n",
    "$$\\small R_{p} = return \\ of \\ portfolio $$ \n",
    "$$\\small E_{i} = return \\ of \\ asset \\ i$$ \n",
    "$$\\small W_{j} = weight \\ of \\ asset \\ j$$ \n",
    "\n",
    "<br>\n",
    "\n",
    "$$ \\sigma^{2}_{p} = \\sum\\limits_{j}w^{2}_{j}\\sigma^{2}_{i}+\\sum\\limits_{j}\\sum\\limits_{j!=i}w_{i}w_{j}\\sigma_{i}\\sigma_{j}\\rho_{ij}$$\n",
    "\n",
    "$$\\small \\sigma^{2}_{p} = portfolio \\ variance $$ \n",
    "$$\\small \\rho_{ij} = correlation \\ between \\ asset \\ ij$$ \n",
    "\n",
    "\n"
   ]
  },
  {
   "cell_type": "markdown",
   "metadata": {},
   "source": [
    "#### 3. Data Wrangling\n",
    "\n",
    "**Libraries**"
   ]
  },
  {
   "cell_type": "code",
   "execution_count": 1,
   "metadata": {},
   "outputs": [],
   "source": [
    "import pandas_datareader.data as web #To collect data\n",
    "import datetime as dt #To specify start and end dates\n",
    "import pandas as pd #To read files or work with dataframes\n",
    "import matplotlib.pyplot as plt #To visualize\n",
    "import numpy as np #To get random weights\n",
    "plt.style.use('fivethirtyeight')"
   ]
  },
  {
   "cell_type": "markdown",
   "metadata": {},
   "source": [
    "**Data collection**"
   ]
  },
  {
   "cell_type": "code",
   "execution_count": 6,
   "metadata": {},
   "outputs": [],
   "source": [
    "#Choosing the stock tickers, the time period to get the prices - number of simulations -risk free as zero\n",
    "#And returns 1 as an empty dataframe to store the prices\n",
    "tickers = ['WM','MCD','PG','JNJ','HD'] \n",
    "start = dt.datetime(2010, 1, 1) \n",
    "end = dt.datetime(2020,12,1)\n",
    "\n",
    "number_of_portfolios = 1000\n",
    "RF = 0\n",
    "returns1 = pd.DataFrame "
   ]
  },
  {
   "cell_type": "markdown",
   "metadata": {},
   "source": [
    "**Setting initial dataframe**"
   ]
  },
  {
   "cell_type": "code",
   "execution_count": 7,
   "metadata": {},
   "outputs": [
    {
     "name": "stdout",
     "output_type": "stream",
     "text": [
      "                  WM       MCD        PG       JNJ        HD\n",
      "Date                                                        \n",
      "2010-01-04       NaN       NaN       NaN       NaN       NaN\n",
      "2010-01-05 -0.004391 -0.007646  0.000327 -0.011596  0.007325\n",
      "2010-01-06 -0.000294 -0.013643 -0.004743  0.008134 -0.003463\n",
      "2010-01-07  0.002353  0.007323 -0.005423 -0.007137  0.011814\n",
      "2010-01-08  0.004695 -0.000969 -0.001322  0.003438 -0.004808\n"
     ]
    }
   ],
   "source": [
    "#Creating a for loop to iterate over the tickers list to extract the prices\n",
    "for ticker in tickers:\n",
    "     data = web.DataReader(ticker, 'yahoo', start, end)\n",
    "     data = pd.DataFrame(data)\n",
    "     #new column created on the dataframe\n",
    "     #the new column gets the pct change of the stock \n",
    "     data [ticker] = data ['Adj Close'].pct_change()\n",
    "     \n",
    "     #Condition to append the first iteration \n",
    "     if returns1.empty:\n",
    "        returns1 = data[[ticker]]\n",
    "      #Condition to keep inner joining the pct columns to the big dataframe (returns1)\n",
    "     else:\n",
    "        returns1 = returns1.join(data[[ticker]], on='Date')\n",
    "\n",
    "print(returns1.head())"
   ]
  },
  {
   "cell_type": "code",
   "execution_count": 8,
   "metadata": {},
   "outputs": [],
   "source": [
    "#Now, lets create the empty list to append the risk, return, sharpe ratios and weights \n",
    "#From the simulation\n",
    "portfolio_returns = []\n",
    "portfolio_risk = []\n",
    "sharpe_ratios = []\n",
    "portfolio_weights = []"
   ]
  },
  {
   "cell_type": "markdown",
   "metadata": {},
   "source": [
    "#### 4. Simulations - Monte carlo"
   ]
  },
  {
   "cell_type": "code",
   "execution_count": 9,
   "metadata": {},
   "outputs": [],
   "source": [
    "for portfolio in range (number_of_portfolios):\n",
    "\n",
    "    #Weights\n",
    "    weights = np.random.random_sample(len(tickers))\n",
    "    weights = np.round(weights / np.sum(weights),3) #to get the sum of weights equal to 1# getting the random weights #\n",
    "    portfolio_weights.append(weights)\n",
    "   \n",
    "    #calculate annualized returns1 (multiplied for 252 in order to get the information for a year, 252 is applied only for stocks)\n",
    "    annualized_returns = np.sum(returns1.mean() * weights) * 252  # (wi*ri + wi*ri) *252 # get the portfolio return and multiply it by 252 #\n",
    "    portfolio_returns.append(annualized_returns)\n",
    "    \n",
    "    #Matrix Covariance & Portfolio risk calculation\n",
    "    matrix_covariance = returns1.cov() * 252 #*252 to get the info for a year\n",
    "    portfolio_variance = np.dot(weights.T, np.dot(matrix_covariance, weights)) \n",
    "    \n",
    "    #Portfolio Risk\n",
    "    portfolio_standard_deviation = np.sqrt(portfolio_variance)\n",
    "    portfolio_risk.append(portfolio_standard_deviation)\n",
    "\n",
    "    #SHARPE RATIO\n",
    "    sharpe_ratio = (annualized_returns - RF) / portfolio_standard_deviation\n",
    "    sharpe_ratios.append(sharpe_ratio)"
   ]
  },
  {
   "cell_type": "markdown",
   "metadata": {},
   "source": [
    "**Setting the final dataframe**"
   ]
  },
  {
   "cell_type": "code",
   "execution_count": 20,
   "metadata": {},
   "outputs": [],
   "source": [
    "#Once the simulation is done, the risk,sharpe,weight and return list are put in a single list\n",
    "#then that list of metris is turn into a dataframe\n",
    "#with the proper columns names\n",
    "portfolio_returns = np.array(portfolio_returns)\n",
    "portfolio_risk = np.array(portfolio_risk)\n",
    "sharpe_ratios = np.array(sharpe_ratios)\n",
    "\n",
    "portfolio_metrics = [portfolio_returns,portfolio_risk, sharpe_ratios, portfolio_weights]\n",
    "portfolios_df = pd.DataFrame(portfolio_metrics).T #ITS KEY to put the .T in order to transpose the data in order to see it #\n",
    "portfolios_df.columns = ['Return','Risk','Sharpe','Weights'] #ITS KEY to add the columns name to the dataframe #"
   ]
  },
  {
   "cell_type": "code",
   "execution_count": 21,
   "metadata": {},
   "outputs": [
    {
     "name": "stdout",
     "output_type": "stream",
     "text": [
      "     Return      Risk    Sharpe                              Weights\n",
      "0  0.129434  0.151949  0.851826  [0.103, 0.086, 0.691, 0.117, 0.003]\n",
      "1  0.162056  0.147517  1.098554   [0.285, 0.21, 0.255, 0.099, 0.151]\n",
      "2  0.163945  0.148677  1.102693    [0.137, 0.246, 0.086, 0.332, 0.2]\n",
      "3  0.161623  0.149832  1.078695  [0.262, 0.335, 0.021, 0.264, 0.119]\n",
      "4  0.164466  0.150101  1.095705  [0.066, 0.101, 0.355, 0.211, 0.267]\n"
     ]
    }
   ],
   "source": [
    "print(portfolios_df.head())"
   ]
  },
  {
   "cell_type": "markdown",
   "metadata": {},
   "source": [
    "**Locating Main Findings**"
   ]
  },
  {
   "cell_type": "code",
   "execution_count": 22,
   "metadata": {},
   "outputs": [],
   "source": [
    "# IDENTIFYING THE PORTFOLIOS WITH MINIMUN RISK, HIGHEST RETURN AND THE HIGHEST SHARPE RATIO \n",
    "\n",
    "#locating in the dataframe the row where the risk is minimum \n",
    "min_risk = portfolios_df.iloc[portfolios_df['Risk'].astype(float).idxmin()] \n",
    "\n",
    "#locating in the dataframe the row where the return is max and min\n",
    "highest_return = portfolios_df.iloc[portfolios_df['Return'].astype(float).idxmax()] \n",
    "lowest_return =  portfolios_df.iloc[portfolios_df['Return'].astype(float).idxmin()]\n",
    "\n",
    "#locating in the dataframe the row where the sharpe is max\n",
    "highest_sharpe = portfolios_df.iloc[portfolios_df['Sharpe'].astype(float).idxmax()] "
   ]
  },
  {
   "cell_type": "code",
   "execution_count": 23,
   "metadata": {},
   "outputs": [
    {
     "name": "stdout",
     "output_type": "stream",
     "text": [
      "Return                                0.137926\n",
      "Risk                                   0.14143\n",
      "Sharpe                                0.975218\n",
      "Weights    [0.183, 0.224, 0.261, 0.327, 0.004]\n",
      "Name: 879, dtype: object\n",
      "Return                                0.204834\n",
      "Risk                                  0.173073\n",
      "Sharpe                                1.183514\n",
      "Weights    [0.299, 0.133, 0.022, 0.064, 0.482]\n",
      "Name: 53, dtype: object\n"
     ]
    }
   ],
   "source": [
    "#Minimun variance \n",
    "print(min_risk)\n",
    "\n",
    "#Minimun variance efficient \n",
    "print(highest_sharpe)"
   ]
  },
  {
   "cell_type": "markdown",
   "metadata": {},
   "source": [
    "#### 5. Visualization\n"
   ]
  },
  {
   "cell_type": "code",
   "execution_count": 26,
   "metadata": {},
   "outputs": [
    {
     "data": {
      "image/png": "[encoded data removed]",
      "text/plain": [
       "<Figure size 576x432 with 2 Axes>"
      ]
     },
     "metadata": {
      "needs_background": "light"
     },
     "output_type": "display_data"
    }
   ],
   "source": [
    "\n",
    "plt.figure (figsize = (8,6))\n",
    "plt.scatter(portfolio_risk,portfolio_returns, c = portfolio_returns / portfolio_risk) # c is coloring portfolio return / portfolio risk thats the sharpe ratio\n",
    "plt.title('Efficient Frontier', fontsize = 20)\n",
    "plt.xlabel ('Volatility', fontsize = 20)\n",
    "plt.ylabel('Return', fontsize = 20)\n",
    "plt.xticks(fontsize = 15)\n",
    "plt.yticks(fontsize = 15)\n",
    "plt.colorbar(label = 'Sharpe Ratio')\n",
    "#RED DOT AS MAX SHARPE RATIO PORTFOLIO\n",
    "plt.scatter(highest_sharpe['Risk'],highest_sharpe['Return'], s=100, facecolor='maroon', alpha=0.4)\n",
    "plt.show()"
   ]
  }
 ],
 "metadata": {
  "kernelspec": {
   "display_name": "Python 3.10.5 64-bit",
   "language": "python",
   "name": "python3"
  },
  "language_info": {
   "codemirror_mode": {
    "name": "ipython",
    "version": 3
   },
   "file_extension": ".py",
   "mimetype": "text/x-python",
   "name": "python",
   "nbconvert_exporter": "python",
   "pygments_lexer": "ipython3",
   "version": "3.10.5"
  },
  "orig_nbformat": 4,
  "vscode": {
   "interpreter": {
    "hash": "fe9d5ff4a53884772935b30e4b6ecd0e3de4ff8dac19789a0359c1b599960c97"
   }
  }
 },
 "nbformat": 4,
 "nbformat_minor": 2
}
